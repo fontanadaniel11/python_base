{
  "nbformat": 4,
  "nbformat_minor": 0,
  "metadata": {
    "colab": {
      "provenance": [],
      "include_colab_link": true
    },
    "kernelspec": {
      "name": "python3",
      "display_name": "Python 3"
    },
    "language_info": {
      "name": "python"
    }
  },
  "cells": [
    {
      "cell_type": "markdown",
      "metadata": {
        "id": "view-in-github",
        "colab_type": "text"
      },
      "source": [
        "<a href=\"https://colab.research.google.com/github/fontanadaniel11/python_base/blob/main/inserimento_dati_e_operazioni_base.ipynb\" target=\"_parent\"><img src=\"https://colab.research.google.com/assets/colab-badge.svg\" alt=\"Open In Colab\"/></a>"
      ]
    },
    {
      "cell_type": "code",
      "execution_count": null,
      "metadata": {
        "id": "r9ggbLnwB7fc"
      },
      "outputs": [],
      "source": [
        "print(\"hello word\")\n",
        "ciao=2 \n",
        "if     ciao > 1 :\n",
        "    print(\"maggiore\")\n",
        "else:\n",
        "  print(\"minore\")"
      ]
    },
    {
      "cell_type": "code",
      "source": [
        "a=10\n",
        "p=20\n",
        "c=10.5\n",
        "print(a, p, c)"
      ],
      "metadata": {
        "id": "MsrOQ90bFqoP"
      },
      "execution_count": null,
      "outputs": []
    },
    {
      "cell_type": "code",
      "source": [
        "somma=a+p\n",
        "sottrazione= a-p\n",
        "moltiplicazione=a*p\n",
        "divisione=a/p\n",
        "print(somma,sottrazione,moltiplicazione,divisione)"
      ],
      "metadata": {
        "id": "ru0v69JxGE08"
      },
      "execution_count": null,
      "outputs": []
    },
    {
      "cell_type": "code",
      "source": [
        "#inserimento dati\n",
        "\n",
        "peso = int(input(\"inserisci il tuo peso\"))\n",
        "altezza = float(input(\"inserisci la tua altezza\"))\n",
        "\n",
        "\n",
        "imc= peso/(altezza*altezza)\n",
        "print(imc)\n",
        "if imc<18.5:\n",
        "  print(\"sei sottopeso\")\n",
        "elif imc>=18.5 and imc<25:\n",
        "  print(\"sei normopeso\") \n",
        "elif imc>=25 and imc<30:\n",
        "  print(\"sei sovrappeso\")\n",
        "elif imc>= 30:\n",
        "  print(\"sei obeso\")\n",
        "\n"
      ],
      "metadata": {
        "id": "GHh8y9JlGudc"
      },
      "execution_count": null,
      "outputs": []
    },
    {
      "cell_type": "code",
      "source": [
        "#scrivere un programma che calcoli le tasse da pagare\n",
        "#se il reddito e inferiore a 30 mila € si paga il 15% se il reddito e compreso tra 30 M€ e 60M€ si paga il 20%\n",
        "#se il reddito e superiore a i 60 mila€ si paga il 30%\n",
        "reddito=int(input(\"insrsci il tuo reddito\"))\n",
        "if reddito<30000:\n",
        "   tassa=15\n",
        "elif reddito>=30000 and reddito<60000:\n",
        "   tassa=20\n",
        "else:\n",
        "   tassa=30\n",
        "   \n",
        "tasse=(reddito/100)*tassa\n",
        "print(\"paghi:\", tasse)\n"
      ],
      "metadata": {
        "colab": {
          "base_uri": "https://localhost:8080/"
        },
        "id": "oTyxmogDPQTm",
        "outputId": "88378e4d-e3e2-41f3-bd69-a1adaca90e1d"
      },
      "execution_count": null,
      "outputs": [
        {
          "output_type": "stream",
          "name": "stdout",
          "text": [
            "insrsci il tuo reddito15204\n",
            "paghi: 2280.6\n"
          ]
        }
      ]
    },
    {
      "cell_type": "code",
      "source": [
        "#un negozio vuole incentivare gli acquisti applicando sconti maggiori a chi spende di più \n",
        "#se un cliente spende fino a 100€ gli viene fatto lo sconto del 15% \n",
        "#se spende da 100 a 200€ lo sconto e del 20%\n",
        "#se spende da 200 a 300€ lo sconto e del 40%\n",
        "#se spende oltre i 400€ los conto e del 60%\n",
        "#scrivere un programma che dato il totale dell'acquisto calcoli il prezzo finale che il cliente deve pagare.\n",
        "\n",
        "costo=float(input(\"prezzo totale:\"))\n",
        "if costo<100:\n",
        "  sconto=15\n",
        "elif costo<200:\n",
        "  sconto=20\n",
        "elif costo<300:\n",
        "  sconto=40\n",
        "else:\n",
        "  sconto=60\n",
        "pagamento=costo-((costo/100)*sconto)\n",
        "print(\"paghi\",pagamento)\n",
        "\n"
      ],
      "metadata": {
        "id": "5viB6gNtQ1Qe"
      },
      "execution_count": null,
      "outputs": []
    }
  ]
}